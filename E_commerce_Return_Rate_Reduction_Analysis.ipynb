{
  "nbformat": 4,
  "nbformat_minor": 0,
  "metadata": {
    "colab": {
      "provenance": []
    },
    "kernelspec": {
      "name": "python3",
      "display_name": "Python 3"
    },
    "language_info": {
      "name": "python"
    }
  },
  "cells": [
    {
      "cell_type": "markdown",
      "source": [
        "### E-commerce Return Rate Reduction Analysis\n",
        "\n",
        "Use the following code snippet to upload your CSV file:"
      ],
      "metadata": {
        "id": "z-ZmpeZhP-CG"
      }
    },
    {
      "cell_type": "code",
      "source": [
        "from google.colab import files\n",
        "uploaded = files.upload()\n"
      ],
      "metadata": {
        "colab": {
          "base_uri": "https://localhost:8080/",
          "height": 73
        },
        "id": "SrAX4t0mO5Ek",
        "outputId": "f9e731b7-2baa-467a-ee1c-7afe54f86add"
      },
      "execution_count": null,
      "outputs": [
        {
          "output_type": "display_data",
          "data": {
            "text/plain": [
              "<IPython.core.display.HTML object>"
            ],
            "text/html": [
              "\n",
              "     <input type=\"file\" id=\"files-bcd5df1e-bae0-4d82-9a5f-604116fab157\" name=\"files[]\" multiple disabled\n",
              "        style=\"border:none\" />\n",
              "     <output id=\"result-bcd5df1e-bae0-4d82-9a5f-604116fab157\">\n",
              "      Upload widget is only available when the cell has been executed in the\n",
              "      current browser session. Please rerun this cell to enable.\n",
              "      </output>\n",
              "      <script>// Copyright 2017 Google LLC\n",
              "//\n",
              "// Licensed under the Apache License, Version 2.0 (the \"License\");\n",
              "// you may not use this file except in compliance with the License.\n",
              "// You may obtain a copy of the License at\n",
              "//\n",
              "//      http://www.apache.org/licenses/LICENSE-2.0\n",
              "//\n",
              "// Unless required by applicable law or agreed to in writing, software\n",
              "// distributed under the License is distributed on an \"AS IS\" BASIS,\n",
              "// WITHOUT WARRANTIES OR CONDITIONS OF ANY KIND, either express or implied.\n",
              "// See the License for the specific language governing permissions and\n",
              "// limitations under the License.\n",
              "\n",
              "/**\n",
              " * @fileoverview Helpers for google.colab Python module.\n",
              " */\n",
              "(function(scope) {\n",
              "function span(text, styleAttributes = {}) {\n",
              "  const element = document.createElement('span');\n",
              "  element.textContent = text;\n",
              "  for (const key of Object.keys(styleAttributes)) {\n",
              "    element.style[key] = styleAttributes[key];\n",
              "  }\n",
              "  return element;\n",
              "}\n",
              "\n",
              "// Max number of bytes which will be uploaded at a time.\n",
              "const MAX_PAYLOAD_SIZE = 100 * 1024;\n",
              "\n",
              "function _uploadFiles(inputId, outputId) {\n",
              "  const steps = uploadFilesStep(inputId, outputId);\n",
              "  const outputElement = document.getElementById(outputId);\n",
              "  // Cache steps on the outputElement to make it available for the next call\n",
              "  // to uploadFilesContinue from Python.\n",
              "  outputElement.steps = steps;\n",
              "\n",
              "  return _uploadFilesContinue(outputId);\n",
              "}\n",
              "\n",
              "// This is roughly an async generator (not supported in the browser yet),\n",
              "// where there are multiple asynchronous steps and the Python side is going\n",
              "// to poll for completion of each step.\n",
              "// This uses a Promise to block the python side on completion of each step,\n",
              "// then passes the result of the previous step as the input to the next step.\n",
              "function _uploadFilesContinue(outputId) {\n",
              "  const outputElement = document.getElementById(outputId);\n",
              "  const steps = outputElement.steps;\n",
              "\n",
              "  const next = steps.next(outputElement.lastPromiseValue);\n",
              "  return Promise.resolve(next.value.promise).then((value) => {\n",
              "    // Cache the last promise value to make it available to the next\n",
              "    // step of the generator.\n",
              "    outputElement.lastPromiseValue = value;\n",
              "    return next.value.response;\n",
              "  });\n",
              "}\n",
              "\n",
              "/**\n",
              " * Generator function which is called between each async step of the upload\n",
              " * process.\n",
              " * @param {string} inputId Element ID of the input file picker element.\n",
              " * @param {string} outputId Element ID of the output display.\n",
              " * @return {!Iterable<!Object>} Iterable of next steps.\n",
              " */\n",
              "function* uploadFilesStep(inputId, outputId) {\n",
              "  const inputElement = document.getElementById(inputId);\n",
              "  inputElement.disabled = false;\n",
              "\n",
              "  const outputElement = document.getElementById(outputId);\n",
              "  outputElement.innerHTML = '';\n",
              "\n",
              "  const pickedPromise = new Promise((resolve) => {\n",
              "    inputElement.addEventListener('change', (e) => {\n",
              "      resolve(e.target.files);\n",
              "    });\n",
              "  });\n",
              "\n",
              "  const cancel = document.createElement('button');\n",
              "  inputElement.parentElement.appendChild(cancel);\n",
              "  cancel.textContent = 'Cancel upload';\n",
              "  const cancelPromise = new Promise((resolve) => {\n",
              "    cancel.onclick = () => {\n",
              "      resolve(null);\n",
              "    };\n",
              "  });\n",
              "\n",
              "  // Wait for the user to pick the files.\n",
              "  const files = yield {\n",
              "    promise: Promise.race([pickedPromise, cancelPromise]),\n",
              "    response: {\n",
              "      action: 'starting',\n",
              "    }\n",
              "  };\n",
              "\n",
              "  cancel.remove();\n",
              "\n",
              "  // Disable the input element since further picks are not allowed.\n",
              "  inputElement.disabled = true;\n",
              "\n",
              "  if (!files) {\n",
              "    return {\n",
              "      response: {\n",
              "        action: 'complete',\n",
              "      }\n",
              "    };\n",
              "  }\n",
              "\n",
              "  for (const file of files) {\n",
              "    const li = document.createElement('li');\n",
              "    li.append(span(file.name, {fontWeight: 'bold'}));\n",
              "    li.append(span(\n",
              "        `(${file.type || 'n/a'}) - ${file.size} bytes, ` +\n",
              "        `last modified: ${\n",
              "            file.lastModifiedDate ? file.lastModifiedDate.toLocaleDateString() :\n",
              "                                    'n/a'} - `));\n",
              "    const percent = span('0% done');\n",
              "    li.appendChild(percent);\n",
              "\n",
              "    outputElement.appendChild(li);\n",
              "\n",
              "    const fileDataPromise = new Promise((resolve) => {\n",
              "      const reader = new FileReader();\n",
              "      reader.onload = (e) => {\n",
              "        resolve(e.target.result);\n",
              "      };\n",
              "      reader.readAsArrayBuffer(file);\n",
              "    });\n",
              "    // Wait for the data to be ready.\n",
              "    let fileData = yield {\n",
              "      promise: fileDataPromise,\n",
              "      response: {\n",
              "        action: 'continue',\n",
              "      }\n",
              "    };\n",
              "\n",
              "    // Use a chunked sending to avoid message size limits. See b/62115660.\n",
              "    let position = 0;\n",
              "    do {\n",
              "      const length = Math.min(fileData.byteLength - position, MAX_PAYLOAD_SIZE);\n",
              "      const chunk = new Uint8Array(fileData, position, length);\n",
              "      position += length;\n",
              "\n",
              "      const base64 = btoa(String.fromCharCode.apply(null, chunk));\n",
              "      yield {\n",
              "        response: {\n",
              "          action: 'append',\n",
              "          file: file.name,\n",
              "          data: base64,\n",
              "        },\n",
              "      };\n",
              "\n",
              "      let percentDone = fileData.byteLength === 0 ?\n",
              "          100 :\n",
              "          Math.round((position / fileData.byteLength) * 100);\n",
              "      percent.textContent = `${percentDone}% done`;\n",
              "\n",
              "    } while (position < fileData.byteLength);\n",
              "  }\n",
              "\n",
              "  // All done.\n",
              "  yield {\n",
              "    response: {\n",
              "      action: 'complete',\n",
              "    }\n",
              "  };\n",
              "}\n",
              "\n",
              "scope.google = scope.google || {};\n",
              "scope.google.colab = scope.google.colab || {};\n",
              "scope.google.colab._files = {\n",
              "  _uploadFiles,\n",
              "  _uploadFilesContinue,\n",
              "};\n",
              "})(self);\n",
              "</script> "
            ]
          },
          "metadata": {}
        },
        {
          "output_type": "stream",
          "name": "stdout",
          "text": [
            "Saving Ecommerce_Product_Sales.csv to Ecommerce_Product_Sales.csv\n"
          ]
        }
      ]
    },
    {
      "cell_type": "markdown",
      "source": [
        "## ✅ Step 1: Load and Clean Dataset\n",
        "\n",
        "### 🎯 Objective:\n",
        "To import the raw CSV file and ensure that the dataset is clean, structured, and ready for analysis and modeling.\n",
        "\n",
        "### 📌 Actions Performed:\n",
        "\n",
        "1. **Loaded** the dataset using `pandas.read_csv()` from the local path.\n",
        "2. **Checked for missing values** to confirm data completeness.\n",
        "3. **Removed duplicate records**, if any, to maintain data integrity.\n",
        "4. **Standardized column names** by removing spaces and converting to lowercase with underscores.\n",
        "5. **Previewed the cleaned dataset** to validate the structure and contents.\n",
        "## ✅ Outcome:\n",
        "The dataset was clean with no missing values or duplicates. It is now ready for further analysis and modeling.\n",
        "### 🧾 Code:"
      ],
      "metadata": {
        "id": "nGgJHdjAQA6b"
      }
    },
    {
      "cell_type": "code",
      "execution_count": null,
      "metadata": {
        "id": "bywogV_fNwbJ",
        "outputId": "e9a127f4-77fd-4eb3-d643-53c1d62d1d6d",
        "colab": {
          "base_uri": "https://localhost:8080/"
        }
      },
      "outputs": [
        {
          "output_type": "stream",
          "name": "stdout",
          "text": [
            "Product_ID      0\n",
            "Product_Name    0\n",
            "Category        0\n",
            "Price           0\n",
            "Units_Sold      0\n",
            "Revenue         0\n",
            "Rating          0\n",
            "Return_Rate     0\n",
            "Seller_Name     0\n",
            "dtype: int64\n",
            "  Product_ID     Product_Name        Category   Price  Units_Sold    Revenue  \\\n",
            "0  Product_1    Max Product_1            Toys  358.65         983  352552.95   \n",
            "1  Product_2    Pro Product_2  Home & Kitchen  248.00          79   19592.00   \n",
            "2  Product_3    Eco Product_3      Automotive  148.12         206   30512.72   \n",
            "3  Product_4  Super Product_4     Electronics   15.76         585    9219.60   \n",
            "4  Product_5  Ultra Product_5  Home & Kitchen   20.84         401    8356.84   \n",
            "\n",
            "   Rating  Return_Rate Seller_Name  \n",
            "0    3.63         0.16    Seller_B  \n",
            "1    1.23         0.20    Seller_E  \n",
            "2    2.09         0.05    Seller_D  \n",
            "3    3.69         0.05    Seller_D  \n",
            "4    2.01         0.15    Seller_B  \n"
          ]
        }
      ],
      "source": [
        "import pandas as pd\n",
        "df = pd.read_csv('Ecommerce_Product_Sales.csv')\n",
        "print(df.isnull().sum())\n",
        "df.drop_duplicates(inplace=True)\n",
        "df.columns = df.columns.str.strip().str.replace(\" \", \"_\")\n",
        "print(df.head())\n"
      ]
    },
    {
      "cell_type": "markdown",
      "source": [
        "## ✅ Step 2: Analyze Return % by Category and Seller\n",
        "\n",
        "### 🎯 Objective:\n",
        "To explore how return rates vary across different product categories and sellers, helping to identify which segments are more prone to returns.\n",
        "\n",
        "### 📌 Actions Performed:\n",
        "\n",
        "1. Grouped data by `Category` and calculated the average `Return_Rate`.\n",
        "2. Grouped data by `Seller_Name` and calculated the average `Return_Rate`.\n",
        "3. Visualized the return rate distributions using bar plots.\n",
        "4. Updated the code to avoid `FutureWarning` from Seaborn regarding `palette` and `hue`.\n",
        "### ✅ Outcome:\n",
        "This analysis clearly shows which product categories and sellers contribute to higher return rates. These insights will guide targeted improvements in product quality, description clarity, and supplier management.\n",
        "---\n",
        "### 🧾 Code:"
      ],
      "metadata": {
        "id": "VXkgo8uMThpS"
      }
    },
    {
      "cell_type": "code",
      "source": [
        "import matplotlib.pyplot as plt\n",
        "import seaborn as sns\n",
        "category_return = df.groupby('Category')['Return_Rate'].mean().reset_index().sort_values(by='Return_Rate', ascending=False)\n",
        "seller_return = df.groupby('Seller_Name')['Return_Rate'].mean().reset_index().sort_values(by='Return_Rate', ascending=False)\n",
        "plt.figure(figsize=(10, 5))\n",
        "sns.barplot(x='Return_Rate', y='Category', hue='Category', data=category_return, palette='Blues_d', legend=False)\n",
        "plt.title('Average Return Rate by Product Category')\n",
        "plt.xlabel('Average Return Rate')\n",
        "plt.ylabel('Product Category')\n",
        "plt.tight_layout()\n",
        "plt.show()\n",
        "plt.figure(figsize=(8, 5))\n",
        "sns.barplot(x='Return_Rate', y='Seller_Name', hue='Seller_Name', data=seller_return, palette='Greens_d', legend=False)\n",
        "plt.title('Average Return Rate by Seller')\n",
        "plt.xlabel('Average Return Rate')\n",
        "plt.ylabel('Seller Name')\n",
        "plt.tight_layout()\n",
        "plt.show()\n"
      ],
      "metadata": {
        "colab": {
          "base_uri": "https://localhost:8080/",
          "height": 997
        },
        "id": "yt6NTw66RXd_",
        "outputId": "f389b3fd-ebee-4d46-c0a4-570f93c4b7b3"
      },
      "execution_count": null,
      "outputs": [
        {
          "output_type": "display_data",
          "data": {
            "text/plain": [
              "<Figure size 1000x500 with 1 Axes>"
            ],
            "image/png": "[encoded data removed]"
          },
          "metadata": {}
        },
        {
          "output_type": "display_data",
          "data": {
            "text/plain": [
              "<Figure size 800x500 with 1 Axes>"
            ],
            "image/png": "[encoded data removed]"
          },
          "metadata": {}
        }
      ]
    },
    {
      "cell_type": "markdown",
      "source": [
        "### ✅ Step 3: Random Forest for Predicting Return Probability\n",
        "\n",
        "### 🎯 Objective:\n",
        "To build a Random Forest model that predicts whether a product is likely to be returned, using engineered and encoded product features. This enhances prediction accuracy over linear models like logistic regression.\n",
        "\n",
        "### 📌 Actions Performed:\n",
        "Created a binary target variable (High_Return) where:\n",
        "\n",
        "1 → Return Rate > 15%\n",
        "\n",
        "0 → Otherwise\n",
        "\n",
        "Engineered a new feature:\n",
        "\n",
        "Name_Length: length of product name as a proxy for naming consistency.\n",
        "\n",
        "Selected important features: Price, Rating, Category, Seller_Name, Name_Length.\n",
        "\n",
        "Applied one-hot encoding to convert categorical data into numerical form.\n",
        "\n",
        "Split the data into 80% training and 20% testing subsets using train_test_split.\n",
        "\n",
        "Trained a Random Forest Classifier with:\n",
        "\n",
        "100 trees (n_estimators=100)\n",
        "\n",
        "class_weight='balanced' to manage class imbalance\n",
        "\n",
        "Evaluated model performance using:\n",
        "\n",
        "Accuracy\n",
        "\n",
        "Confusion Matrix\n",
        "\n",
        "Classification Report (Precision, Recall, F1-score)\n",
        "\n",
        " ### ✅ Outcome:\n",
        "The Random Forest model achieved improved accuracy (54%) compared to logistic regression.\n",
        "It better captures non-linear return patterns across different sellers and categories, allowing for more reliable tagging of high-return-risk products.\n",
        "\n",
        "### 🧾 Code:"
      ],
      "metadata": {
        "id": "n4qIxNHAUlA5"
      }
    },
    {
      "cell_type": "code",
      "source": [
        "import pandas as pd\n",
        "from sklearn.ensemble import RandomForestClassifier\n",
        "from sklearn.metrics import accuracy_score, confusion_matrix, classification_report\n",
        "from sklearn.model_selection import train_test_split\n",
        "\n",
        "df = pd.read_csv('Ecommerce_Product_Sales.csv')\n",
        "df.columns = df.columns.str.strip().str.replace(\" \", \"_\")\n",
        "df['High_Return'] = (df['Return_Rate'] > 0.15).astype(int)\n",
        "df['Name_Length'] = df['Product_Name'].apply(lambda x: len(str(x)))\n",
        "features = df[['Price', 'Rating', 'Name_Length', 'Category', 'Seller_Name']]\n",
        "target = df['High_Return']\n",
        "features_encoded = pd.get_dummies(features, columns=['Category', 'Seller_Name'], drop_first=True)\n",
        "X_train, X_test, y_train, y_test = train_test_split(features_encoded, target, test_size=0.2, random_state=42)\n",
        "rf = RandomForestClassifier(n_estimators=100, random_state=42, class_weight='balanced')\n",
        "rf.fit(X_train, y_train)\n",
        "y_pred = rf.predict(X_test)\n",
        "print(\"Accuracy:\", accuracy_score(y_test, y_pred))\n",
        "print(\"Confusion Matrix:\\n\", confusion_matrix(y_test, y_pred))\n",
        "print(\"Classification Report:\\n\", classification_report(y_test, y_pred))\n"
      ],
      "metadata": {
        "colab": {
          "base_uri": "https://localhost:8080/"
        },
        "id": "kFzd3z2DVKdg",
        "outputId": "cc8c0a76-f3ec-4868-cce6-bb2f540c8238"
      },
      "execution_count": null,
      "outputs": [
        {
          "output_type": "stream",
          "name": "stdout",
          "text": [
            "Accuracy: 0.54\n",
            "Confusion Matrix:\n",
            " [[25 17]\n",
            " [29 29]]\n",
            "Classification Report:\n",
            "               precision    recall  f1-score   support\n",
            "\n",
            "           0       0.46      0.60      0.52        42\n",
            "           1       0.63      0.50      0.56        58\n",
            "\n",
            "    accuracy                           0.54       100\n",
            "   macro avg       0.55      0.55      0.54       100\n",
            "weighted avg       0.56      0.54      0.54       100\n",
            "\n"
          ]
        }
      ]
    },
    {
      "cell_type": "markdown",
      "source": [
        "### ✅ Step 4: Export High-Risk Products\n",
        "### 🎯 Objective:\n",
        "To identify and export products that have a high predicted probability of being returned, based on the trained Random Forest model’s predictions. These products are labeled as high-risk and can be flagged for further review by business teams.\n",
        "### 📌 Actions Performed:\n",
        "Used the trained Random Forest model to predict return labels on the test dataset.\n",
        "Calculated return probabilities using predict_proba().\n",
        "Appended actual label, predicted label, and probability to the test data.\n",
        "Filtered products where the predicted return risk is high (Predicted == 1).\n",
        "Exported high-risk products to a CSV file for analysis and integration with Power BI.\n",
        "### ✅ Outcome:\n",
        "Generated a list of high-risk products, including:\n",
        "Actual return label\n",
        "Predicted label\n",
        "Probability of return\n",
        "This CSV can be imported into Power BI for further risk scoring, category analysis, and supplier monitoring.\n",
        "### 🧾 Code:"
      ],
      "metadata": {
        "id": "5_XOB-9limam"
      }
    },
    {
      "cell_type": "code",
      "source": [
        "from google.colab import files\n",
        "y_probs = rf.predict_proba(X_test)[:, 1]\n",
        "results = X_test.copy()\n",
        "results['Actual'] = y_test.values\n",
        "results['Predicted'] = y_pred\n",
        "results['Return_Probability'] = y_probs\n",
        "results = results.reset_index(drop=True)\n",
        "results.to_csv('high_risk_products.csv', index=False)\n",
        "files.download('high_risk_products.csv')\n"
      ],
      "metadata": {
        "colab": {
          "base_uri": "https://localhost:8080/",
          "height": 17
        },
        "id": "Zb9l9_JakUA6",
        "outputId": "46c36770-748d-4aca-93b0-bb7987fa5295"
      },
      "execution_count": null,
      "outputs": [
        {
          "output_type": "display_data",
          "data": {
            "text/plain": [
              "<IPython.core.display.Javascript object>"
            ],
            "application/javascript": [
              "\n",
              "    async function download(id, filename, size) {\n",
              "      if (!google.colab.kernel.accessAllowed) {\n",
              "        return;\n",
              "      }\n",
              "      const div = document.createElement('div');\n",
              "      const label = document.createElement('label');\n",
              "      label.textContent = `Downloading \"${filename}\": `;\n",
              "      div.appendChild(label);\n",
              "      const progress = document.createElement('progress');\n",
              "      progress.max = size;\n",
              "      div.appendChild(progress);\n",
              "      document.body.appendChild(div);\n",
              "\n",
              "      const buffers = [];\n",
              "      let downloaded = 0;\n",
              "\n",
              "      const channel = await google.colab.kernel.comms.open(id);\n",
              "      // Send a message to notify the kernel that we're ready.\n",
              "      channel.send({})\n",
              "\n",
              "      for await (const message of channel.messages) {\n",
              "        // Send a message to notify the kernel that we're ready.\n",
              "        channel.send({})\n",
              "        if (message.buffers) {\n",
              "          for (const buffer of message.buffers) {\n",
              "            buffers.push(buffer);\n",
              "            downloaded += buffer.byteLength;\n",
              "            progress.value = downloaded;\n",
              "          }\n",
              "        }\n",
              "      }\n",
              "      const blob = new Blob(buffers, {type: 'application/binary'});\n",
              "      const a = document.createElement('a');\n",
              "      a.href = window.URL.createObjectURL(blob);\n",
              "      a.download = filename;\n",
              "      div.appendChild(a);\n",
              "      a.click();\n",
              "      div.remove();\n",
              "    }\n",
              "  "
            ]
          },
          "metadata": {}
        },
        {
          "output_type": "display_data",
          "data": {
            "text/plain": [
              "<IPython.core.display.Javascript object>"
            ],
            "application/javascript": [
              "download(\"download_a39de162-c791-40d4-b1c2-e76d299d4354\", \"high_risk_products.csv\", 9080)"
            ]
          },
          "metadata": {}
        }
      ]
    },
    {
      "cell_type": "markdown",
      "source": [],
      "metadata": {
        "id": "eXAKD7pNcD6A"
      }
    }
  ]
}